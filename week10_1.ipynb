{
  "nbformat": 4,
  "nbformat_minor": 0,
  "metadata": {
    "colab": {
      "name": "week10-1.ipynb",
      "provenance": [],
      "authorship_tag": "ABX9TyNZsvNwi+cauEuvAOf7dqlT",
      "include_colab_link": true
    },
    "kernelspec": {
      "name": "python3",
      "display_name": "Python 3"
    }
  },
  "cells": [
    {
      "cell_type": "markdown",
      "metadata": {
        "id": "view-in-github",
        "colab_type": "text"
      },
      "source": [
        "<a href=\"https://colab.research.google.com/github/A109260089/Computational-Thinking/blob/master/week10_1.ipynb\" target=\"_parent\"><img src=\"https://colab.research.google.com/assets/colab-badge.svg\" alt=\"Open In Colab\"/></a>"
      ]
    },
    {
      "cell_type": "code",
      "metadata": {
        "colab": {
          "base_uri": "https://localhost:8080/"
        },
        "id": "nQffnSvZQdlQ",
        "outputId": "cdfcbfda-ab88-434a-a0a2-5c057950e847"
      },
      "source": [
        "movie_title=\"money ball\"\n",
        "release_year=\"2011\"\n",
        "movie_time_min=\"133\"\n",
        "movie_rating=\"7.6\"\n",
        "director=\"bennett miller\"\n",
        "stars_1=\"brad pitt\"\n",
        "stars_2=\"robin wright\"\n",
        "stars_3=\"jonah hill\"\n",
        "print(\"電影英文名稱\",movie_title)\n",
        "print(\"電影年分\",release_year)\n",
        "print(\"電影導演\",director)\n",
        "print(\"電影第一主角\",stars_1)\n",
        "print(\"電影第二主角\",stars_2)\n",
        "\n"
      ],
      "execution_count": 3,
      "outputs": [
        {
          "output_type": "stream",
          "text": [
            "電影英文名稱 money ball\n",
            "電影年分 2011\n",
            "電影導演 bennett miller\n",
            "電影第一主角 brad pitt\n",
            "電影第二主角 robin wright\n"
          ],
          "name": "stdout"
        }
      ]
    }
  ]
}