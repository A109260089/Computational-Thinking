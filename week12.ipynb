{
  "nbformat": 4,
  "nbformat_minor": 0,
  "metadata": {
    "colab": {
      "name": "week12.ipynb",
      "provenance": [],
      "authorship_tag": "ABX9TyOLXUfxiOERDLF61m15ghVp",
      "include_colab_link": true
    },
    "kernelspec": {
      "name": "python3",
      "display_name": "Python 3"
    }
  },
  "cells": [
    {
      "cell_type": "markdown",
      "metadata": {
        "id": "view-in-github",
        "colab_type": "text"
      },
      "source": [
        "<a href=\"https://colab.research.google.com/github/A109260089/Computational-Thinking/blob/master/week12.ipynb\" target=\"_parent\"><img src=\"https://colab.research.google.com/assets/colab-badge.svg\" alt=\"Open In Colab\"/></a>"
      ]
    },
    {
      "cell_type": "markdown",
      "metadata": {
        "id": "7_K4PjAddkFP"
      },
      "source": [
        "購物清單"
      ]
    },
    {
      "cell_type": "code",
      "metadata": {
        "colab": {
          "base_uri": "https://localhost:8080/"
        },
        "id": "DfN3Lx14Yn7f",
        "outputId": "b0124498-925d-40ba-aff5-763ce07080bc"
      },
      "source": [
        "shopping_list = ['布丁', '滷肉飯', '火鍋', '牛奶', '紅茶']\n",
        "print(shopping_list)"
      ],
      "execution_count": 1,
      "outputs": [
        {
          "output_type": "stream",
          "text": [
            "['布丁', '滷肉飯', '火鍋', '牛奶', '紅茶']\n"
          ],
          "name": "stdout"
        }
      ]
    },
    {
      "cell_type": "markdown",
      "metadata": {
        "id": "DDufX-XZnvPZ"
      },
      "source": [
        "NBA冠軍隊的六筆資訊"
      ]
    },
    {
      "cell_type": "code",
      "metadata": {
        "colab": {
          "base_uri": "https://localhost:8080/"
        },
        "id": "S_bMSqN1hfZp",
        "outputId": "584d6602-03fe-4faa-b79f-31b858d9897d"
      },
      "source": [
        "season = \"2019-2020\"\n",
        "team = \"Los Angeles Lakers\"\n",
        "coach = \"Frank Paul Vogel\"\n",
        "records = [52,19]\n",
        "starting = [\"Dwight Howard\", \"Anthony Davis\", \"LeBron James\", \"Danny Green\", \"Kentavious Caldwell-Pope\"]\n",
        "champion = True\n",
        "# 變數best_NBA 賦值串列\n",
        "best_NBA = list((season, team, coach, records, starting,champion))\n",
        "print(best_NBA)\n",
        "['2019-2020', 'Los Angeles Lakers', 'Frank Paul Vogel', [52, 19], ['Dwight Howard', 'Anthony Davis', 'LeBron James', 'Danny Green','Kentavious Caldwell-Pope'], True]\n",
        "print(type(best_NBA))\n",
        "# indexing 索引\n",
        "print(best_NBA[-2])\n",
        "['Dwight Howard', 'Anthony Davis', 'LeBron James', 'Danny Green','Kentavious Caldwell-Pope ']\n",
        "# slicing 切片\n",
        "print(best_NBA[1:4])\n",
        "['Los Angeles Lakers', 'Frank Paul Vogel', [52, 19]]"
      ],
      "execution_count": 6,
      "outputs": [
        {
          "output_type": "stream",
          "text": [
            "['2019-2020', 'Los Angeles Lakers', 'Frank Paul Vogel', [52, 19], ['Dwight Howard', 'Anthony Davis', 'LeBron James', 'Danny Green', 'Kentavious Caldwell-Pope'], True]\n",
            "<class 'list'>\n",
            "['Dwight Howard', 'Anthony Davis', 'LeBron James', 'Danny Green', 'Kentavious Caldwell-Pope']\n",
            "['Los Angeles Lakers', 'Frank Paul Vogel', [52, 19]]\n"
          ],
          "name": "stdout"
        },
        {
          "output_type": "execute_result",
          "data": {
            "text/plain": [
              "['Los Angeles Lakers', 'Frank Paul Vogel', [52, 19]]"
            ]
          },
          "metadata": {
            "tags": []
          },
          "execution_count": 6
        }
      ]
    }
  ]
}