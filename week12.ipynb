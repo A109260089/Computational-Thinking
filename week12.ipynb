{
  "nbformat": 4,
  "nbformat_minor": 0,
  "metadata": {
    "colab": {
      "name": "week12.ipynb",
      "provenance": [],
      "authorship_tag": "ABX9TyMOal9J88gqWWuLPOWBRC66",
      "include_colab_link": true
    },
    "kernelspec": {
      "name": "python3",
      "display_name": "Python 3"
    }
  },
  "cells": [
    {
      "cell_type": "markdown",
      "metadata": {
        "id": "view-in-github",
        "colab_type": "text"
      },
      "source": [
        "<a href=\"https://colab.research.google.com/github/A109260089/Computational-Thinking/blob/master/week12.ipynb\" target=\"_parent\"><img src=\"https://colab.research.google.com/assets/colab-badge.svg\" alt=\"Open In Colab\"/></a>"
      ]
    },
    {
      "cell_type": "markdown",
      "metadata": {
        "id": "7_K4PjAddkFP"
      },
      "source": [
        "購物清單"
      ]
    },
    {
      "cell_type": "code",
      "metadata": {
        "colab": {
          "base_uri": "https://localhost:8080/"
        },
        "id": "DfN3Lx14Yn7f",
        "outputId": "b0124498-925d-40ba-aff5-763ce07080bc"
      },
      "source": [
        "shopping_list = ['布丁', '滷肉飯', '火鍋', '牛奶', '紅茶']\n",
        "print(shopping_list)"
      ],
      "execution_count": 1,
      "outputs": [
        {
          "output_type": "stream",
          "text": [
            "['布丁', '滷肉飯', '火鍋', '牛奶', '紅茶']\n"
          ],
          "name": "stdout"
        }
      ]
    },
    {
      "cell_type": "markdown",
      "metadata": {
        "id": "DDufX-XZnvPZ"
      },
      "source": [
        "NBA冠軍隊的六筆資訊"
      ]
    },
    {
      "cell_type": "code",
      "metadata": {
        "colab": {
          "base_uri": "https://localhost:8080/"
        },
        "id": "S_bMSqN1hfZp",
        "outputId": "10c1c1eb-66b1-4efc-a2f8-86936a20b6d2"
      },
      "source": [
        "season = \"2019-2020\"\n",
        "team = \"Los Angeles Lakers\"\n",
        "coach = \"Frank Paul Vogel\"\n",
        "records = [52,19]\n",
        "starting = [\"Dwight Howard\", \"Anthony Davis\", \"LeBron James\", \"Danny Green\", \"Kentavious Caldwell-Pope\"]\n",
        "champion = True\n",
        "# 變數best_NBA 賦值串列\n",
        "best_NBA = list((season, team, coach, records, starting,champion))\n",
        "print(best_NBA)\n",
        "['2019-2020', 'Los Angeles Lakers', 'Frank Paul Vogel', [52, 19], ['Dwight Howard', 'Anthony Davis', 'LeBron James', 'Danny Green','Kentavious Caldwell-Pope'], True]\n",
        "print(type(best_NBA))\n",
        "# indexing 索引\n",
        "print(best_NBA[-2])\n",
        "['Dwight Howard', 'Anthony Davis', 'LeBron James', 'Danny Green','Kentavious Caldwell-Pope ']\n",
        "# slicing 切片\n",
        "print(best_NBA[1:4])\n",
        "['Los Angeles Lakers', 'Frank Paul Vogel', [52, 19]]"
      ],
      "execution_count": 7,
      "outputs": [
        {
          "output_type": "stream",
          "text": [
            "['2019-2020', 'Los Angeles Lakers', 'Frank Paul Vogel', [52, 19], ['Dwight Howard', 'Anthony Davis', 'LeBron James', 'Danny Green', 'Kentavious Caldwell-Pope'], True]\n",
            "<class 'list'>\n",
            "['Dwight Howard', 'Anthony Davis', 'LeBron James', 'Danny Green', 'Kentavious Caldwell-Pope']\n",
            "['Los Angeles Lakers', 'Frank Paul Vogel', [52, 19]]\n"
          ],
          "name": "stdout"
        },
        {
          "output_type": "execute_result",
          "data": {
            "text/plain": [
              "['Los Angeles Lakers', 'Frank Paul Vogel', [52, 19]]"
            ]
          },
          "metadata": {
            "tags": []
          },
          "execution_count": 7
        }
      ]
    },
    {
      "cell_type": "markdown",
      "metadata": {
        "id": "ztnHsTq6z5DU"
      },
      "source": [
        "請用range()函數建立下面的數字串列"
      ]
    },
    {
      "cell_type": "code",
      "metadata": {
        "colab": {
          "base_uri": "https://localhost:8080/"
        },
        "id": "9-DlHppTwCNK",
        "outputId": "96fd39b4-6a64-4496-b828-b65832ede407"
      },
      "source": [
        "# [0,1,2,3,4,5,6,7,8,9]\n",
        "a = range(10) \n",
        "print(a)\n",
        "range(0, 10)\n",
        "print(a[0], a[1], a[2], a[3], a[4],a[5],a[6],a[7],a[8],a[9])\n",
        "\n",
        "# [0,2,4,6,8]\n",
        "b = range(0, 9) \n",
        "print(b[0], b[1], b[2], b[3],b[4])\n",
        "\n",
        "# [5,7,9]\n",
        "c = range(5, 10, 2)\n",
        "print(c[0], c[1], c[2])\n",
        "\n",
        "# [0,-1,-2,-3,-4,-5,-6,-7,-8,-9]\n",
        "d = range(0, -10, -1)\n",
        "print(d[0], d[1], d[2], d[3],d[4],d[5],d[6],d[7],d[8],d[9])\n"
      ],
      "execution_count": 19,
      "outputs": [
        {
          "output_type": "stream",
          "text": [
            "range(0, 10)\n",
            "0 1 2 3 4 5 6 7 8 9\n",
            "0 1 2 3 4\n",
            "5 7 9\n",
            "0 -1 -2 -3 -4 -5 -6 -7 -8 -9\n"
          ],
          "name": "stdout"
        }
      ]
    },
    {
      "cell_type": "code",
      "metadata": {
        "id": "HY0j6XWfz83B"
      },
      "source": [
        "project_title=\"\"\n",
        "name_list=[\"張家瑄\",\"張書豪\",\"鄧喬薰\",\"陳婕妮\",\"孫劭維\",\"陳信嘉\",\"陳冠霖\",\"王煜翔\"]\n",
        "number_list=[\"89\",\"45\",\"11\",\"17\",\"77\",\"25\",\"39\",\"19\",\"29\"]\n",
        "duty_list=[\"\"]\n",
        "load_list=[\"\"]"
      ],
      "execution_count": null,
      "outputs": []
    }
  ]
}