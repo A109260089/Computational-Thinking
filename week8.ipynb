{
  "nbformat": 4,
  "nbformat_minor": 0,
  "metadata": {
    "colab": {
      "name": "week8.ipynb",
      "provenance": [],
      "include_colab_link": true
    },
    "kernelspec": {
      "name": "python3",
      "display_name": "Python 3"
    }
  },
  "cells": [
    {
      "cell_type": "markdown",
      "metadata": {
        "id": "view-in-github",
        "colab_type": "text"
      },
      "source": [
        "<a href=\"https://colab.research.google.com/github/A109260089/Computational-Thinking/blob/master/week8.ipynb\" target=\"_parent\"><img src=\"https://colab.research.google.com/assets/colab-badge.svg\" alt=\"Open In Colab\"/></a>"
      ]
    },
    {
      "cell_type": "code",
      "metadata": {
        "id": "XH-t_j0vbuH3"
      },
      "source": [
        ""
      ],
      "execution_count": null,
      "outputs": []
    },
    {
      "cell_type": "markdown",
      "metadata": {
        "id": "HRKndSlbgdTN"
      },
      "source": [
        "服裝訂購系統"
      ]
    },
    {
      "cell_type": "code",
      "metadata": {
        "id": "lpsqU8_bglo-",
        "outputId": "4aeadd6a-a8e2-4ed1-e222-1eb15dd7c1f1",
        "colab": {
          "base_uri": "https://localhost:8080/"
        }
      },
      "source": [
        "##input\n",
        "cloth_price=300\n",
        "pants_price=350\n",
        "vest_price=400\n",
        "cloth=int(input('請輸入數量_1?'))\n",
        "pants=int(input('請輸入數量_2?'))\n",
        "vest=int(input('請輸入數量_3?'))\n",
        "##Process\n",
        "total = cloth_price * cloth + pants_price * pants + vest_price * vest\n",
        "##output\n",
        "print(f'總金額為{total}')"
      ],
      "execution_count": 2,
      "outputs": [
        {
          "output_type": "stream",
          "text": [
            "請輸入數量_1?3\n",
            "請輸入數量_2?5\n",
            "請輸入數量_3?4\n",
            "總金額為4250\n"
          ],
          "name": "stdout"
        }
      ]
    },
    {
      "cell_type": "markdown",
      "metadata": {
        "id": "-tldLBDclg5h"
      },
      "source": [
        "賣場買飲料"
      ]
    },
    {
      "cell_type": "code",
      "metadata": {
        "id": "0WYlO0g8lwxl",
        "outputId": "28c4de79-bdd7-4ef0-8585-4e4cbabe3244",
        "colab": {
          "base_uri": "https://localhost:8080/"
        }
      },
      "source": [
        "##input\n",
        "drink1_price=20\n",
        "drink12_price=200\n",
        "number=int(input('請輸入數量?'))\n",
        "##process\n",
        "total=(number//12)*200+(number%12)*20\n",
        "##output\n",
        "print(f'總金額為{total}')"
      ],
      "execution_count": 4,
      "outputs": [
        {
          "output_type": "stream",
          "text": [
            "請輸入數量?78\n",
            "總金額為1320\n"
          ],
          "name": "stdout"
        }
      ]
    },
    {
      "cell_type": "markdown",
      "metadata": {
        "id": "xBF_0mKbomSx"
      },
      "source": [
        "求三數總和與平均"
      ]
    },
    {
      "cell_type": "code",
      "metadata": {
        "id": "yah7cQzooqUd",
        "outputId": "b219f75b-88fd-47fa-b82e-5d27a0fc1bcb",
        "colab": {
          "base_uri": "https://localhost:8080/"
        }
      },
      "source": [
        "##input\n",
        "grade1=int(input('請輸入成績_1?'))\n",
        "grade2=int(input('請輸入成績_2?'))\n",
        "grade3=int(input('請輸入成績_3?'))\n",
        "##process\n",
        "total=grade1+grade2+grade3\n",
        "average=(grade1+grade2+grade3)/3\n",
        "##output\n",
        "print(f'總分為{total} ,平均為{average}')"
      ],
      "execution_count": 5,
      "outputs": [
        {
          "output_type": "stream",
          "text": [
            "請輸入成績_1?55\n",
            "請輸入成績_2?78\n",
            "請輸入成績_3?90\n",
            "總分為223 ,平均為74.33333333333333\n"
          ],
          "name": "stdout"
        }
      ]
    }
  ]
}