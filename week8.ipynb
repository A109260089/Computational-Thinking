{
  "nbformat": 4,
  "nbformat_minor": 0,
  "metadata": {
    "colab": {
      "name": "week8.ipynb",
      "provenance": [],
      "authorship_tag": "ABX9TyO8CK9cWchGE9jziYMaRg3D",
      "include_colab_link": true
    },
    "kernelspec": {
      "name": "python3",
      "display_name": "Python 3"
    }
  },
  "cells": [
    {
      "cell_type": "markdown",
      "metadata": {
        "id": "view-in-github",
        "colab_type": "text"
      },
      "source": [
        "<a href=\"https://colab.research.google.com/github/A109260089/Computational-Thinking/blob/master/week8.ipynb\" target=\"_parent\"><img src=\"https://colab.research.google.com/assets/colab-badge.svg\" alt=\"Open In Colab\"/></a>"
      ]
    },
    {
      "cell_type": "code",
      "metadata": {
        "id": "XH-t_j0vbuH3"
      },
      "source": [
        ""
      ],
      "execution_count": null,
      "outputs": []
    },
    {
      "cell_type": "markdown",
      "metadata": {
        "id": "HRKndSlbgdTN"
      },
      "source": [
        "服裝訂購系統"
      ]
    },
    {
      "cell_type": "code",
      "metadata": {
        "id": "lpsqU8_bglo-"
      },
      "source": [
        "##input\n",
        "cloth_price=300\n",
        "pants_price=350\n",
        "vest_price=400\n",
        "cloth=int(input('請輸入數量_1?'))\n",
        "pants=int(input('請輸入數量_2?'))\n",
        "vest==int(input('請輸入數量_3?'))\n",
        "##Process\n",
        "total = cloth_price * cloth + pants_price * pants + vest_price * vest\n",
        "##output\n",
        "print(f'總金額為{total}')"
      ],
      "execution_count": null,
      "outputs": []
    }
  ]
}