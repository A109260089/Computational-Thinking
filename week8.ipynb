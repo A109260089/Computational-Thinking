{
  "nbformat": 4,
  "nbformat_minor": 0,
  "metadata": {
    "colab": {
      "name": "week8.ipynb",
      "provenance": [],
      "authorship_tag": "ABX9TyNhEkje7X2IAWdH7c2yZ1JF",
      "include_colab_link": true
    },
    "kernelspec": {
      "name": "python3",
      "display_name": "Python 3"
    }
  },
  "cells": [
    {
      "cell_type": "markdown",
      "metadata": {
        "id": "view-in-github",
        "colab_type": "text"
      },
      "source": [
        "<a href=\"https://colab.research.google.com/github/A109260089/Computational-Thinking/blob/master/week8.ipynb\" target=\"_parent\"><img src=\"https://colab.research.google.com/assets/colab-badge.svg\" alt=\"Open In Colab\"/></a>"
      ]
    },
    {
      "cell_type": "code",
      "metadata": {
        "id": "XH-t_j0vbuH3"
      },
      "source": [
        ""
      ],
      "execution_count": null,
      "outputs": []
    },
    {
      "cell_type": "markdown",
      "metadata": {
        "id": "HRKndSlbgdTN"
      },
      "source": [
        "服裝訂購系統"
      ]
    },
    {
      "cell_type": "code",
      "metadata": {
        "id": "lpsqU8_bglo-",
        "colab": {
          "base_uri": "https://localhost:8080/"
        },
        "outputId": "e35d4c14-9bbf-4f74-d929-915e880ca26f"
      },
      "source": [
        "##input\n",
        "cloth_price=300\n",
        "pants_price=350\n",
        "vest_price=400\n",
        "cloth=int(input('請輸入數量_1?'))\n",
        "pants=int(input('請輸入數量_2?'))\n",
        "vest=int(input('請輸入數量_3?'))\n",
        "##Process\n",
        "total = cloth_price * cloth + pants_price * pants + vest_price * vest\n",
        "##output\n",
        "print(f'總金額為{total}')"
      ],
      "execution_count": 2,
      "outputs": [
        {
          "output_type": "stream",
          "text": [
            "請輸入數量_1?6\n",
            "請輸入數量_2?4\n",
            "請輸入數量_3?22\n",
            "總金額為12000\n"
          ],
          "name": "stdout"
        }
      ]
    },
    {
      "cell_type": "markdown",
      "metadata": {
        "id": "-tldLBDclg5h"
      },
      "source": [
        "賣場買飲料"
      ]
    },
    {
      "cell_type": "code",
      "metadata": {
        "id": "0WYlO0g8lwxl",
        "colab": {
          "base_uri": "https://localhost:8080/"
        },
        "outputId": "89f62aa3-6683-4f5b-c73f-7a7eabb60aa3"
      },
      "source": [
        "##input\n",
        "drink1_price=20\n",
        "drink12_price=200\n",
        "number=int(input('請輸入數量?'))\n",
        "##process\n",
        "total=(number//12)*200+(number%12)*20\n",
        "##output\n",
        "print(f'總金額為{total}')"
      ],
      "execution_count": 4,
      "outputs": [
        {
          "output_type": "stream",
          "text": [
            "請輸入數量?45\n",
            "總金額為780\n"
          ],
          "name": "stdout"
        }
      ]
    },
    {
      "cell_type": "markdown",
      "metadata": {
        "id": "xBF_0mKbomSx"
      },
      "source": [
        "求三數總和與平均"
      ]
    },
    {
      "cell_type": "code",
      "metadata": {
        "id": "yah7cQzooqUd",
        "colab": {
          "base_uri": "https://localhost:8080/"
        },
        "outputId": "c1660cca-6ed5-4d4e-8fdd-b0abd7803b93"
      },
      "source": [
        "##input\n",
        "grade1=int(input('請輸入成績_1?'))\n",
        "grade2=int(input('請輸入成績_2?'))\n",
        "grade3=int(input('請輸入成績_3?'))\n",
        "##process\n",
        "total=grade1+grade2+grade3\n",
        "average=(grade1+grade2+grade3)/3\n",
        "##output\n",
        "print(f'總分為{total} ,平均為{average}')"
      ],
      "execution_count": 5,
      "outputs": [
        {
          "output_type": "stream",
          "text": [
            "請輸入成績_1?65\n",
            "請輸入成績_2?25\n",
            "請輸入成績_3?99\n",
            "總分為189 ,平均為63.0\n"
          ],
          "name": "stdout"
        }
      ]
    }
  ]
}