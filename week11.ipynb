{
  "nbformat": 4,
  "nbformat_minor": 0,
  "metadata": {
    "colab": {
      "name": "week11.ipynb",
      "provenance": [],
      "authorship_tag": "ABX9TyO/QFqcfg8T6V0HFmuArWY5",
      "include_colab_link": true
    },
    "kernelspec": {
      "name": "python3",
      "display_name": "Python 3"
    }
  },
  "cells": [
    {
      "cell_type": "markdown",
      "metadata": {
        "id": "view-in-github",
        "colab_type": "text"
      },
      "source": [
        "<a href=\"https://colab.research.google.com/github/A109260089/Computational-Thinking/blob/master/week11.ipynb\" target=\"_parent\"><img src=\"https://colab.research.google.com/assets/colab-badge.svg\" alt=\"Open In Colab\"/></a>"
      ]
    },
    {
      "cell_type": "markdown",
      "metadata": {
        "id": "i1TuB8MQbwaA"
      },
      "source": [
        "分組"
      ]
    },
    {
      "cell_type": "code",
      "metadata": {
        "id": "3PR3Ts7iZiJq",
        "colab": {
          "base_uri": "https://localhost:8080/"
        },
        "outputId": "9a0d84c3-edc1-4743-e680-ffadfe4f779a"
      },
      "source": [
        "#商數餘數\n",
        "##input\n",
        "seat=int(input(\"enter a seat number?\"))\n",
        "##process\n",
        "group=(seat-1)//5+1\n",
        "##output\n",
        "print(\"group is\",group)"
      ],
      "execution_count": 1,
      "outputs": [
        {
          "output_type": "stream",
          "text": [
            "enter a seat number?6\n",
            "group is 2\n"
          ],
          "name": "stdout"
        }
      ]
    },
    {
      "cell_type": "code",
      "metadata": {
        "colab": {
          "base_uri": "https://localhost:8080/"
        },
        "id": "9d7sQmbQc7vh",
        "outputId": "d6b1b3fd-5195-4fb2-ad82-c161dff3e140"
      },
      "source": [
        "#四捨五入 無條件進位\n",
        "import math\n",
        "##input\n",
        "seat=int(input(\"enter a seat number\"))\n",
        "##process\n",
        "group=math.ceil(seat/5)\n",
        "##output\n",
        "print(\"group is\",group)"
      ],
      "execution_count": 2,
      "outputs": [
        {
          "output_type": "stream",
          "text": [
            "enter a seat number4\n",
            "group is 1\n"
          ],
          "name": "stdout"
        }
      ]
    },
    {
      "cell_type": "code",
      "metadata": {
        "colab": {
          "base_uri": "https://localhost:8080/"
        },
        "id": "CvenphxUeWwg",
        "outputId": "8c38a527-dfbe-49c7-c998-e56ef2195895"
      },
      "source": [
        "number=int(input(\"enter a number?\"))\n",
        "if number%5==0:\n",
        "   print(\"group is\",number//5)\n",
        "else:\n",
        "   print(\"group is\",number//5+1)   "
      ],
      "execution_count": 3,
      "outputs": [
        {
          "output_type": "stream",
          "text": [
            "enter a number?35\n",
            "group is 7\n"
          ],
          "name": "stdout"
        }
      ]
    },
    {
      "cell_type": "code",
      "metadata": {
        "colab": {
          "base_uri": "https://localhost:8080/"
        },
        "id": "LOgx6I2QhmIX",
        "outputId": "67c3dc8a-5839-4123-ae0a-5f8e51fad8a6"
      },
      "source": [
        "# 聊天機器人自我介紹\n",
        "print(\"哈囉,大家好。我叫QQxy,是一個聊天機器人。\")\n",
        "hobby=\"我很喜歡吃火鍋。今天很高興有機會來到世新大學,請大家多多指教\"\n",
        "print(hobby)\n",
        "name = input(\"嗨!妳好,請問大名?: \")\n",
        "print(\"我叫\", name)\n",
        "print(\"你好\", name, \"很高興認識你\")\n",
        "year = input(\"請問一下今年是西元2020年,那是民國幾年呢? \")\n",
        "print(\"對!應該沒錯,謝謝妳!\")\n",
        "myage = int(input(\"再猜猜看我今年幾歲? \"))\n",
        "print(\"哇!你好聰明,我今年的確\", myage)\n",
        "feeling = input(\"你今天心情如何?; \")\n",
        "print(\"告訴我你現在\", feeling, \"的原因。 \")\n",
        "reason = input(\"為什麼: \")\n",
        "print(\"我知道了。謝謝分享。\")"
      ],
      "execution_count": 11,
      "outputs": [
        {
          "output_type": "stream",
          "text": [
            "哈囉,大家好。我叫QQxy,是一個聊天機器人。\n",
            "我很喜歡吃火鍋。今天很高興有機會來到世新大學,請大家多多指教\n",
            "嗨!妳好,請問大名?: 大美女\n",
            "我叫 大美女\n",
            "你好 大美女 很高興認識你\n",
            "請問一下今年是西元2020年,那是民國幾年呢? 109\n",
            "對!應該沒錯,謝謝妳!\n",
            "再猜猜看我今年幾歲? 99\n",
            "哇!你好聰明,我今年的確 99\n",
            "你今天心情如何?; good\n",
            "告訴我你現在 good 的原因。 \n",
            "為什麼: 天氣很好\n",
            "我知道了。謝謝分享。\n"
          ],
          "name": "stdout"
        }
      ]
    }
  ]
}