{
  "nbformat": 4,
  "nbformat_minor": 0,
  "metadata": {
    "colab": {
      "name": "期末.ipynb",
      "provenance": [],
      "authorship_tag": "ABX9TyPOaLrfA+b9nCZw+HDFk2ky",
      "include_colab_link": true
    },
    "kernelspec": {
      "name": "python3",
      "display_name": "Python 3"
    }
  },
  "cells": [
    {
      "cell_type": "markdown",
      "metadata": {
        "id": "view-in-github",
        "colab_type": "text"
      },
      "source": [
        "<a href=\"https://colab.research.google.com/github/A109260089/Computational-Thinking/blob/master/%E6%9C%9F%E6%9C%AB.ipynb\" target=\"_parent\"><img src=\"https://colab.research.google.com/assets/colab-badge.svg\" alt=\"Open In Colab\"/></a>"
      ]
    },
    {
      "cell_type": "code",
      "metadata": {
        "colab": {
          "base_uri": "https://localhost:8080/"
        },
        "id": "Xrej-UxUxNH_",
        "outputId": "a85272fa-0da0-4f57-9f39-0d766840bb49"
      },
      "source": [
        "print(\"嗨嗨!我是等一下...哈啾\")\r\n",
        "print(\"ok好了正式跟大家介紹我叫噴嚏精\")\r\n",
        "ans=input('那個你有衛生紙嗎(yes或no)?哈啾')\r\n",
        "if ans=='yes':\r\n",
        "   print('那可以借我一張嗎')\r\n",
        "else:\r\n",
        "  print('好吧')\r\n",
        "  print('那你的衣服可以借我一下嗎?')\r\n",
        "  print('沒啦開玩笑的啦')\r\n",
        "  print(\"那我需要去買包衛生紙了\")\r\n",
        "n=1\r\n",
        "while n<=5:\r\n",
        " print(\"哈啾\")\r\n",
        " n=n+1\r\n",
        "print(\"這是我今天的第49個噴嚏\")\r\n",
        "print(\"再一個就可以達成人生最高紀錄了\")\r\n",
        "print(\"哈啾\")\r\n",
        "print(\"喔喔喔喔達到了 厲害吧\")"
      ],
      "execution_count": 19,
      "outputs": [
        {
          "output_type": "stream",
          "text": [
            "嗨嗨!我是等一下...哈啾\n",
            "ok好了正式跟大家介紹我叫噴嚏精\n",
            "那個你有衛生紙嗎(yes或no)?哈啾no\n",
            "好吧\n",
            "那你的衣服可以借我一下嗎?\n",
            "沒啦開玩笑的啦\n",
            "哈啾\n",
            "哈啾\n",
            "哈啾\n",
            "哈啾\n",
            "哈啾\n",
            "這是我今天的第49個噴嚏\n",
            "再一個就可以達成人生最高紀錄了\n",
            "哈啾\n"
          ],
          "name": "stdout"
        }
      ]
    }
  ]
}